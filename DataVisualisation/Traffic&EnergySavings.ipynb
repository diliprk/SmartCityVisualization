{
 "cells": [
  {
   "cell_type": "markdown",
   "metadata": {},
   "source": [
    "## Vehicle Traffic Analysis for Smart Street Lighting\n",
    "> Here we perform Data visualisation of the acquired vehicle count data and determine optimal hours to keep the Street lights Dimmed."
   ]
  },
  {
   "cell_type": "code",
   "execution_count": 3,
   "metadata": {},
   "outputs": [],
   "source": [
    "# Author: Dilip Rajkumar\n",
    "# Email: d.rajkumar@hbksaar.de\n",
    "# License: MIT License"
   ]
  },
  {
   "cell_type": "code",
   "execution_count": 4,
   "metadata": {},
   "outputs": [],
   "source": [
    "import pandas as pd\n",
    "import numpy as np\n",
    "from datetime import date\n",
    "import yaml\n",
    "import warnings\n",
    "warnings.simplefilter('ignore') "
   ]
  },
  {
   "cell_type": "code",
   "execution_count": 5,
   "metadata": {},
   "outputs": [
    {
     "data": {
      "text/html": [
       "\n",
       "    <div class=\"bk-root\">\n",
       "        <a href=\"https://bokeh.pydata.org\" target=\"_blank\" class=\"bk-logo bk-logo-small bk-logo-notebook\"></a>\n",
       "        <span id=\"4cab7bb9-21c3-4ddf-a955-ee0236a520bc\">Loading BokehJS ...</span>\n",
       "    </div>"
      ]
     },
     "metadata": {},
     "output_type": "display_data"
    },
    {
     "data": {
      "application/javascript": [
       "\n",
       "(function(root) {\n",
       "  function now() {\n",
       "    return new Date();\n",
       "  }\n",
       "\n",
       "  var force = true;\n",
       "\n",
       "  if (typeof (root._bokeh_onload_callbacks) === \"undefined\" || force === true) {\n",
       "    root._bokeh_onload_callbacks = [];\n",
       "    root._bokeh_is_loading = undefined;\n",
       "  }\n",
       "\n",
       "  var JS_MIME_TYPE = 'application/javascript';\n",
       "  var HTML_MIME_TYPE = 'text/html';\n",
       "  var EXEC_MIME_TYPE = 'application/vnd.bokehjs_exec.v0+json';\n",
       "  var CLASS_NAME = 'output_bokeh rendered_html';\n",
       "\n",
       "  /**\n",
       "   * Render data to the DOM node\n",
       "   */\n",
       "  function render(props, node) {\n",
       "    var script = document.createElement(\"script\");\n",
       "    node.appendChild(script);\n",
       "  }\n",
       "\n",
       "  /**\n",
       "   * Handle when an output is cleared or removed\n",
       "   */\n",
       "  function handleClearOutput(event, handle) {\n",
       "    var cell = handle.cell;\n",
       "\n",
       "    var id = cell.output_area._bokeh_element_id;\n",
       "    var server_id = cell.output_area._bokeh_server_id;\n",
       "    // Clean up Bokeh references\n",
       "    if (id !== undefined) {\n",
       "      Bokeh.index[id].model.document.clear();\n",
       "      delete Bokeh.index[id];\n",
       "    }\n",
       "\n",
       "    if (server_id !== undefined) {\n",
       "      // Clean up Bokeh references\n",
       "      var cmd = \"from bokeh.io.state import curstate; print(curstate().uuid_to_server['\" + server_id + \"'].get_sessions()[0].document.roots[0]._id)\";\n",
       "      cell.notebook.kernel.execute(cmd, {\n",
       "        iopub: {\n",
       "          output: function(msg) {\n",
       "            var element_id = msg.content.text.trim();\n",
       "            Bokeh.index[element_id].model.document.clear();\n",
       "            delete Bokeh.index[element_id];\n",
       "          }\n",
       "        }\n",
       "      });\n",
       "      // Destroy server and session\n",
       "      var cmd = \"import bokeh.io.notebook as ion; ion.destroy_server('\" + server_id + \"')\";\n",
       "      cell.notebook.kernel.execute(cmd);\n",
       "    }\n",
       "  }\n",
       "\n",
       "  /**\n",
       "   * Handle when a new output is added\n",
       "   */\n",
       "  function handleAddOutput(event, handle) {\n",
       "    var output_area = handle.output_area;\n",
       "    var output = handle.output;\n",
       "\n",
       "    // limit handleAddOutput to display_data with EXEC_MIME_TYPE content only\n",
       "    if ((output.output_type != \"display_data\") || (!output.data.hasOwnProperty(EXEC_MIME_TYPE))) {\n",
       "      return\n",
       "    }\n",
       "\n",
       "    var toinsert = output_area.element.find(\".\" + CLASS_NAME.split(' ')[0]);\n",
       "\n",
       "    if (output.metadata[EXEC_MIME_TYPE][\"id\"] !== undefined) {\n",
       "      toinsert[0].firstChild.textContent = output.data[JS_MIME_TYPE];\n",
       "      // store reference to embed id on output_area\n",
       "      output_area._bokeh_element_id = output.metadata[EXEC_MIME_TYPE][\"id\"];\n",
       "    }\n",
       "    if (output.metadata[EXEC_MIME_TYPE][\"server_id\"] !== undefined) {\n",
       "      var bk_div = document.createElement(\"div\");\n",
       "      bk_div.innerHTML = output.data[HTML_MIME_TYPE];\n",
       "      var script_attrs = bk_div.children[0].attributes;\n",
       "      for (var i = 0; i < script_attrs.length; i++) {\n",
       "        toinsert[0].firstChild.setAttribute(script_attrs[i].name, script_attrs[i].value);\n",
       "      }\n",
       "      // store reference to server id on output_area\n",
       "      output_area._bokeh_server_id = output.metadata[EXEC_MIME_TYPE][\"server_id\"];\n",
       "    }\n",
       "  }\n",
       "\n",
       "  function register_renderer(events, OutputArea) {\n",
       "\n",
       "    function append_mime(data, metadata, element) {\n",
       "      // create a DOM node to render to\n",
       "      var toinsert = this.create_output_subarea(\n",
       "        metadata,\n",
       "        CLASS_NAME,\n",
       "        EXEC_MIME_TYPE\n",
       "      );\n",
       "      this.keyboard_manager.register_events(toinsert);\n",
       "      // Render to node\n",
       "      var props = {data: data, metadata: metadata[EXEC_MIME_TYPE]};\n",
       "      render(props, toinsert[0]);\n",
       "      element.append(toinsert);\n",
       "      return toinsert\n",
       "    }\n",
       "\n",
       "    /* Handle when an output is cleared or removed */\n",
       "    events.on('clear_output.CodeCell', handleClearOutput);\n",
       "    events.on('delete.Cell', handleClearOutput);\n",
       "\n",
       "    /* Handle when a new output is added */\n",
       "    events.on('output_added.OutputArea', handleAddOutput);\n",
       "\n",
       "    /**\n",
       "     * Register the mime type and append_mime function with output_area\n",
       "     */\n",
       "    OutputArea.prototype.register_mime_type(EXEC_MIME_TYPE, append_mime, {\n",
       "      /* Is output safe? */\n",
       "      safe: true,\n",
       "      /* Index of renderer in `output_area.display_order` */\n",
       "      index: 0\n",
       "    });\n",
       "  }\n",
       "\n",
       "  // register the mime type if in Jupyter Notebook environment and previously unregistered\n",
       "  if (root.Jupyter !== undefined) {\n",
       "    var events = require('base/js/events');\n",
       "    var OutputArea = require('notebook/js/outputarea').OutputArea;\n",
       "\n",
       "    if (OutputArea.prototype.mime_types().indexOf(EXEC_MIME_TYPE) == -1) {\n",
       "      register_renderer(events, OutputArea);\n",
       "    }\n",
       "  }\n",
       "\n",
       "  \n",
       "  if (typeof (root._bokeh_timeout) === \"undefined\" || force === true) {\n",
       "    root._bokeh_timeout = Date.now() + 5000;\n",
       "    root._bokeh_failed_load = false;\n",
       "  }\n",
       "\n",
       "  var NB_LOAD_WARNING = {'data': {'text/html':\n",
       "     \"<div style='background-color: #fdd'>\\n\"+\n",
       "     \"<p>\\n\"+\n",
       "     \"BokehJS does not appear to have successfully loaded. If loading BokehJS from CDN, this \\n\"+\n",
       "     \"may be due to a slow or bad network connection. Possible fixes:\\n\"+\n",
       "     \"</p>\\n\"+\n",
       "     \"<ul>\\n\"+\n",
       "     \"<li>re-rerun `output_notebook()` to attempt to load from CDN again, or</li>\\n\"+\n",
       "     \"<li>use INLINE resources instead, as so:</li>\\n\"+\n",
       "     \"</ul>\\n\"+\n",
       "     \"<code>\\n\"+\n",
       "     \"from bokeh.resources import INLINE\\n\"+\n",
       "     \"output_notebook(resources=INLINE)\\n\"+\n",
       "     \"</code>\\n\"+\n",
       "     \"</div>\"}};\n",
       "\n",
       "  function display_loaded() {\n",
       "    var el = document.getElementById(\"4cab7bb9-21c3-4ddf-a955-ee0236a520bc\");\n",
       "    if (el != null) {\n",
       "      el.textContent = \"BokehJS is loading...\";\n",
       "    }\n",
       "    if (root.Bokeh !== undefined) {\n",
       "      if (el != null) {\n",
       "        el.textContent = \"BokehJS \" + root.Bokeh.version + \" successfully loaded.\";\n",
       "      }\n",
       "    } else if (Date.now() < root._bokeh_timeout) {\n",
       "      setTimeout(display_loaded, 100)\n",
       "    }\n",
       "  }\n",
       "\n",
       "\n",
       "  function run_callbacks() {\n",
       "    try {\n",
       "      root._bokeh_onload_callbacks.forEach(function(callback) { callback() });\n",
       "    }\n",
       "    finally {\n",
       "      delete root._bokeh_onload_callbacks\n",
       "    }\n",
       "    console.info(\"Bokeh: all callbacks have finished\");\n",
       "  }\n",
       "\n",
       "  function load_libs(js_urls, callback) {\n",
       "    root._bokeh_onload_callbacks.push(callback);\n",
       "    if (root._bokeh_is_loading > 0) {\n",
       "      console.log(\"Bokeh: BokehJS is being loaded, scheduling callback at\", now());\n",
       "      return null;\n",
       "    }\n",
       "    if (js_urls == null || js_urls.length === 0) {\n",
       "      run_callbacks();\n",
       "      return null;\n",
       "    }\n",
       "    console.log(\"Bokeh: BokehJS not loaded, scheduling load and callback at\", now());\n",
       "    root._bokeh_is_loading = js_urls.length;\n",
       "    for (var i = 0; i < js_urls.length; i++) {\n",
       "      var url = js_urls[i];\n",
       "      var s = document.createElement('script');\n",
       "      s.src = url;\n",
       "      s.async = false;\n",
       "      s.onreadystatechange = s.onload = function() {\n",
       "        root._bokeh_is_loading--;\n",
       "        if (root._bokeh_is_loading === 0) {\n",
       "          console.log(\"Bokeh: all BokehJS libraries loaded\");\n",
       "          run_callbacks()\n",
       "        }\n",
       "      };\n",
       "      s.onerror = function() {\n",
       "        console.warn(\"failed to load library \" + url);\n",
       "      };\n",
       "      console.log(\"Bokeh: injecting script tag for BokehJS library: \", url);\n",
       "      document.getElementsByTagName(\"head\")[0].appendChild(s);\n",
       "    }\n",
       "  };var element = document.getElementById(\"4cab7bb9-21c3-4ddf-a955-ee0236a520bc\");\n",
       "  if (element == null) {\n",
       "    console.log(\"Bokeh: ERROR: autoload.js configured with elementid '4cab7bb9-21c3-4ddf-a955-ee0236a520bc' but no matching script tag was found. \")\n",
       "    return false;\n",
       "  }\n",
       "\n",
       "  var js_urls = [\"https://cdn.pydata.org/bokeh/release/bokeh-0.12.14.min.js\", \"https://cdn.pydata.org/bokeh/release/bokeh-widgets-0.12.14.min.js\", \"https://cdn.pydata.org/bokeh/release/bokeh-tables-0.12.14.min.js\", \"https://cdn.pydata.org/bokeh/release/bokeh-gl-0.12.14.min.js\"];\n",
       "\n",
       "  var inline_js = [\n",
       "    function(Bokeh) {\n",
       "      Bokeh.set_log_level(\"info\");\n",
       "    },\n",
       "    \n",
       "    function(Bokeh) {\n",
       "      \n",
       "    },\n",
       "    function(Bokeh) {\n",
       "      console.log(\"Bokeh: injecting CSS: https://cdn.pydata.org/bokeh/release/bokeh-0.12.14.min.css\");\n",
       "      Bokeh.embed.inject_css(\"https://cdn.pydata.org/bokeh/release/bokeh-0.12.14.min.css\");\n",
       "      console.log(\"Bokeh: injecting CSS: https://cdn.pydata.org/bokeh/release/bokeh-widgets-0.12.14.min.css\");\n",
       "      Bokeh.embed.inject_css(\"https://cdn.pydata.org/bokeh/release/bokeh-widgets-0.12.14.min.css\");\n",
       "      console.log(\"Bokeh: injecting CSS: https://cdn.pydata.org/bokeh/release/bokeh-tables-0.12.14.min.css\");\n",
       "      Bokeh.embed.inject_css(\"https://cdn.pydata.org/bokeh/release/bokeh-tables-0.12.14.min.css\");\n",
       "    }\n",
       "  ];\n",
       "\n",
       "  function run_inline_js() {\n",
       "    \n",
       "    if ((root.Bokeh !== undefined) || (force === true)) {\n",
       "      for (var i = 0; i < inline_js.length; i++) {\n",
       "        inline_js[i].call(root, root.Bokeh);\n",
       "      }if (force === true) {\n",
       "        display_loaded();\n",
       "      }} else if (Date.now() < root._bokeh_timeout) {\n",
       "      setTimeout(run_inline_js, 100);\n",
       "    } else if (!root._bokeh_failed_load) {\n",
       "      console.log(\"Bokeh: BokehJS failed to load within specified timeout.\");\n",
       "      root._bokeh_failed_load = true;\n",
       "    } else if (force !== true) {\n",
       "      var cell = $(document.getElementById(\"4cab7bb9-21c3-4ddf-a955-ee0236a520bc\")).parents('.cell').data().cell;\n",
       "      cell.output_area.append_execute_result(NB_LOAD_WARNING)\n",
       "    }\n",
       "\n",
       "  }\n",
       "\n",
       "  if (root._bokeh_is_loading === 0) {\n",
       "    console.log(\"Bokeh: BokehJS loaded, going straight to plotting\");\n",
       "    run_inline_js();\n",
       "  } else {\n",
       "    load_libs(js_urls, function() {\n",
       "      console.log(\"Bokeh: BokehJS plotting callback run at\", now());\n",
       "      run_inline_js();\n",
       "    });\n",
       "  }\n",
       "}(window));"
      ],
      "application/vnd.bokehjs_load.v0+json": "\n(function(root) {\n  function now() {\n    return new Date();\n  }\n\n  var force = true;\n\n  if (typeof (root._bokeh_onload_callbacks) === \"undefined\" || force === true) {\n    root._bokeh_onload_callbacks = [];\n    root._bokeh_is_loading = undefined;\n  }\n\n  \n\n  \n  if (typeof (root._bokeh_timeout) === \"undefined\" || force === true) {\n    root._bokeh_timeout = Date.now() + 5000;\n    root._bokeh_failed_load = false;\n  }\n\n  var NB_LOAD_WARNING = {'data': {'text/html':\n     \"<div style='background-color: #fdd'>\\n\"+\n     \"<p>\\n\"+\n     \"BokehJS does not appear to have successfully loaded. If loading BokehJS from CDN, this \\n\"+\n     \"may be due to a slow or bad network connection. Possible fixes:\\n\"+\n     \"</p>\\n\"+\n     \"<ul>\\n\"+\n     \"<li>re-rerun `output_notebook()` to attempt to load from CDN again, or</li>\\n\"+\n     \"<li>use INLINE resources instead, as so:</li>\\n\"+\n     \"</ul>\\n\"+\n     \"<code>\\n\"+\n     \"from bokeh.resources import INLINE\\n\"+\n     \"output_notebook(resources=INLINE)\\n\"+\n     \"</code>\\n\"+\n     \"</div>\"}};\n\n  function display_loaded() {\n    var el = document.getElementById(\"4cab7bb9-21c3-4ddf-a955-ee0236a520bc\");\n    if (el != null) {\n      el.textContent = \"BokehJS is loading...\";\n    }\n    if (root.Bokeh !== undefined) {\n      if (el != null) {\n        el.textContent = \"BokehJS \" + root.Bokeh.version + \" successfully loaded.\";\n      }\n    } else if (Date.now() < root._bokeh_timeout) {\n      setTimeout(display_loaded, 100)\n    }\n  }\n\n\n  function run_callbacks() {\n    try {\n      root._bokeh_onload_callbacks.forEach(function(callback) { callback() });\n    }\n    finally {\n      delete root._bokeh_onload_callbacks\n    }\n    console.info(\"Bokeh: all callbacks have finished\");\n  }\n\n  function load_libs(js_urls, callback) {\n    root._bokeh_onload_callbacks.push(callback);\n    if (root._bokeh_is_loading > 0) {\n      console.log(\"Bokeh: BokehJS is being loaded, scheduling callback at\", now());\n      return null;\n    }\n    if (js_urls == null || js_urls.length === 0) {\n      run_callbacks();\n      return null;\n    }\n    console.log(\"Bokeh: BokehJS not loaded, scheduling load and callback at\", now());\n    root._bokeh_is_loading = js_urls.length;\n    for (var i = 0; i < js_urls.length; i++) {\n      var url = js_urls[i];\n      var s = document.createElement('script');\n      s.src = url;\n      s.async = false;\n      s.onreadystatechange = s.onload = function() {\n        root._bokeh_is_loading--;\n        if (root._bokeh_is_loading === 0) {\n          console.log(\"Bokeh: all BokehJS libraries loaded\");\n          run_callbacks()\n        }\n      };\n      s.onerror = function() {\n        console.warn(\"failed to load library \" + url);\n      };\n      console.log(\"Bokeh: injecting script tag for BokehJS library: \", url);\n      document.getElementsByTagName(\"head\")[0].appendChild(s);\n    }\n  };var element = document.getElementById(\"4cab7bb9-21c3-4ddf-a955-ee0236a520bc\");\n  if (element == null) {\n    console.log(\"Bokeh: ERROR: autoload.js configured with elementid '4cab7bb9-21c3-4ddf-a955-ee0236a520bc' but no matching script tag was found. \")\n    return false;\n  }\n\n  var js_urls = [\"https://cdn.pydata.org/bokeh/release/bokeh-0.12.14.min.js\", \"https://cdn.pydata.org/bokeh/release/bokeh-widgets-0.12.14.min.js\", \"https://cdn.pydata.org/bokeh/release/bokeh-tables-0.12.14.min.js\", \"https://cdn.pydata.org/bokeh/release/bokeh-gl-0.12.14.min.js\"];\n\n  var inline_js = [\n    function(Bokeh) {\n      Bokeh.set_log_level(\"info\");\n    },\n    \n    function(Bokeh) {\n      \n    },\n    function(Bokeh) {\n      console.log(\"Bokeh: injecting CSS: https://cdn.pydata.org/bokeh/release/bokeh-0.12.14.min.css\");\n      Bokeh.embed.inject_css(\"https://cdn.pydata.org/bokeh/release/bokeh-0.12.14.min.css\");\n      console.log(\"Bokeh: injecting CSS: https://cdn.pydata.org/bokeh/release/bokeh-widgets-0.12.14.min.css\");\n      Bokeh.embed.inject_css(\"https://cdn.pydata.org/bokeh/release/bokeh-widgets-0.12.14.min.css\");\n      console.log(\"Bokeh: injecting CSS: https://cdn.pydata.org/bokeh/release/bokeh-tables-0.12.14.min.css\");\n      Bokeh.embed.inject_css(\"https://cdn.pydata.org/bokeh/release/bokeh-tables-0.12.14.min.css\");\n    }\n  ];\n\n  function run_inline_js() {\n    \n    if ((root.Bokeh !== undefined) || (force === true)) {\n      for (var i = 0; i < inline_js.length; i++) {\n        inline_js[i].call(root, root.Bokeh);\n      }if (force === true) {\n        display_loaded();\n      }} else if (Date.now() < root._bokeh_timeout) {\n      setTimeout(run_inline_js, 100);\n    } else if (!root._bokeh_failed_load) {\n      console.log(\"Bokeh: BokehJS failed to load within specified timeout.\");\n      root._bokeh_failed_load = true;\n    } else if (force !== true) {\n      var cell = $(document.getElementById(\"4cab7bb9-21c3-4ddf-a955-ee0236a520bc\")).parents('.cell').data().cell;\n      cell.output_area.append_execute_result(NB_LOAD_WARNING)\n    }\n\n  }\n\n  if (root._bokeh_is_loading === 0) {\n    console.log(\"Bokeh: BokehJS loaded, going straight to plotting\");\n    run_inline_js();\n  } else {\n    load_libs(js_urls, function() {\n      console.log(\"Bokeh: BokehJS plotting callback run at\", now());\n      run_inline_js();\n    });\n  }\n}(window));"
     },
     "metadata": {},
     "output_type": "display_data"
    }
   ],
   "source": [
    "from bokeh.plotting import figure\n",
    "from bokeh.layouts import row,column,layout,widgetbox\n",
    "from bokeh.io import output_notebook,show,output_file\n",
    "from bokeh.models import WMTSTileSource,ColumnDataSource,CategoricalColorMapper,HoverTool,Label\n",
    "from bokeh.models.widgets import Slider,DateSlider,DatePicker\n",
    "output_notebook() "
   ]
  },
  {
   "cell_type": "code",
   "execution_count": 6,
   "metadata": {},
   "outputs": [
    {
     "data": {
      "text/html": [
       "<div>\n",
       "<style scoped>\n",
       "    .dataframe tbody tr th:only-of-type {\n",
       "        vertical-align: middle;\n",
       "    }\n",
       "\n",
       "    .dataframe tbody tr th {\n",
       "        vertical-align: top;\n",
       "    }\n",
       "\n",
       "    .dataframe thead th {\n",
       "        text-align: right;\n",
       "    }\n",
       "</style>\n",
       "<table border=\"1\" class=\"dataframe\">\n",
       "  <thead>\n",
       "    <tr style=\"text-align: right;\">\n",
       "      <th></th>\n",
       "      <th>VehicleCountperHour</th>\n",
       "      <th>DayorNight</th>\n",
       "      <th>Hour_of_Day</th>\n",
       "    </tr>\n",
       "    <tr>\n",
       "      <th>TimeStamps</th>\n",
       "      <th></th>\n",
       "      <th></th>\n",
       "      <th></th>\n",
       "    </tr>\n",
       "  </thead>\n",
       "  <tbody>\n",
       "    <tr>\n",
       "      <th>2018-02-23 06:01:01</th>\n",
       "      <td>32</td>\n",
       "      <td>Night</td>\n",
       "      <td>6</td>\n",
       "    </tr>\n",
       "    <tr>\n",
       "      <th>2018-02-23 07:01:08</th>\n",
       "      <td>72</td>\n",
       "      <td>Night</td>\n",
       "      <td>7</td>\n",
       "    </tr>\n",
       "    <tr>\n",
       "      <th>2018-02-23 08:01:24</th>\n",
       "      <td>57</td>\n",
       "      <td>Day</td>\n",
       "      <td>8</td>\n",
       "    </tr>\n",
       "    <tr>\n",
       "      <th>2018-02-23 09:01:39</th>\n",
       "      <td>32</td>\n",
       "      <td>Day</td>\n",
       "      <td>9</td>\n",
       "    </tr>\n",
       "    <tr>\n",
       "      <th>2018-02-23 10:01:55</th>\n",
       "      <td>68</td>\n",
       "      <td>Day</td>\n",
       "      <td>10</td>\n",
       "    </tr>\n",
       "    <tr>\n",
       "      <th>2018-02-23 11:02:11</th>\n",
       "      <td>81</td>\n",
       "      <td>Day</td>\n",
       "      <td>11</td>\n",
       "    </tr>\n",
       "  </tbody>\n",
       "</table>\n",
       "</div>"
      ],
      "text/plain": [
       "                     VehicleCountperHour DayorNight  Hour_of_Day\n",
       "TimeStamps                                                      \n",
       "2018-02-23 06:01:01                   32      Night            6\n",
       "2018-02-23 07:01:08                   72      Night            7\n",
       "2018-02-23 08:01:24                   57        Day            8\n",
       "2018-02-23 09:01:39                   32        Day            9\n",
       "2018-02-23 10:01:55                   68        Day           10\n",
       "2018-02-23 11:02:11                   81        Day           11"
      ]
     },
     "execution_count": 6,
     "metadata": {},
     "output_type": "execute_result"
    }
   ],
   "source": [
    "# Reading the cleaned Hourly Vehicle Counts DataFrame\n",
    "url = 'https://docs.google.com/spreadsheets/d/e/2PACX-1vTCG1elMKQ8RjGwfIhs8_F7uGbx5qvxEidnm0gXhG2-q-zrhPTzno5TyIILLDIWNe-fKLHtsMfrmzb5/pub?gid=1430444734&single=true&output=csv'\n",
    "df_hourly = pd.read_csv(url,parse_dates = ['TimeStamps'],infer_datetime_format = True,index_col=['TimeStamps'])\n",
    "df_hourly['Hour_of_Day'] = df_hourly.index.hour ## Add Hour of Day as Numerical Index\n",
    "df_hourly.iloc[15:].head(6)"
   ]
  },
  {
   "cell_type": "code",
   "execution_count": 7,
   "metadata": {},
   "outputs": [],
   "source": [
    "# Limit DataFrame to one Particular Date to initialize the plots\n",
    "hour_value = 10\n",
    "date_value = date(2018, 2, 23)\n",
    "date_value = date_value.strftime('%Y-%m-%d')"
   ]
  },
  {
   "cell_type": "markdown",
   "metadata": {},
   "source": [
    "### GeoMap Visualization of Vehicle Traffic Data"
   ]
  },
  {
   "cell_type": "code",
   "execution_count": 8,
   "metadata": {},
   "outputs": [],
   "source": [
    "# Use this link to convert Lat Long to Web Mercarator co-ordinates \n",
    "# https://epsg.io/map#srs=3857&x=784328&y=6321000&z=18\n",
    "city = x_range,y_range = ((781303,781373),(6316450,6316499))\n",
    "urlmap = 'http://a.basemaps.cartocdn.com/light_all/{Z}/{X}/{Y}.png'\n",
    "# urlmap = 'http://a.basemaps.cartocdn.com/dark_all/{Z}/{X}/{Y}.png'\n",
    "attribution = \"Tiles by Carto, under CC BY 3.0. Data by OSM, under ODbL\""
   ]
  },
  {
   "cell_type": "code",
   "execution_count": 9,
   "metadata": {},
   "outputs": [
    {
     "data": {
      "text/html": [
       "<div>\n",
       "<style scoped>\n",
       "    .dataframe tbody tr th:only-of-type {\n",
       "        vertical-align: middle;\n",
       "    }\n",
       "\n",
       "    .dataframe tbody tr th {\n",
       "        vertical-align: top;\n",
       "    }\n",
       "\n",
       "    .dataframe thead th {\n",
       "        text-align: right;\n",
       "    }\n",
       "</style>\n",
       "<table border=\"1\" class=\"dataframe\">\n",
       "  <thead>\n",
       "    <tr style=\"text-align: right;\">\n",
       "      <th></th>\n",
       "      <th>lat</th>\n",
       "      <th>lon</th>\n",
       "      <th>name</th>\n",
       "      <th>x</th>\n",
       "      <th>y</th>\n",
       "    </tr>\n",
       "  </thead>\n",
       "  <tbody>\n",
       "    <tr>\n",
       "      <th>0</th>\n",
       "      <td>49.244706</td>\n",
       "      <td>7.018892</td>\n",
       "      <td>Waldhausweg, Saarbruecken</td>\n",
       "      <td>781339.539033</td>\n",
       "      <td>6.316485e+06</td>\n",
       "    </tr>\n",
       "  </tbody>\n",
       "</table>\n",
       "</div>"
      ],
      "text/plain": [
       "         lat       lon                       name              x             y\n",
       "0  49.244706  7.018892  Waldhausweg, Saarbruecken  781339.539033  6.316485e+06"
      ]
     },
     "execution_count": 9,
     "metadata": {},
     "output_type": "execute_result"
    }
   ],
   "source": [
    "def wgs84_to_web_mercator(df, lon=\"lon\", lat=\"lat\"):\n",
    "    \"\"\"Converts decimal longitude/latitude to Web Mercator format\"\"\"\n",
    "    k = 6378137\n",
    "    df[\"x\"] = df[lon] * (k * np.pi/180.0)\n",
    "    df[\"y\"] = np.log(np.tan((90 + df[lat]) * np.pi/360.0)) * k\n",
    "    return df\n",
    "\n",
    "df_city = pd.DataFrame(dict(name=[\"Waldhausweg, Saarbruecken\"], lat=[49.2447058], lon=[7.0188925]))\n",
    "wgs84_to_web_mercator(df_city)"
   ]
  },
  {
   "cell_type": "code",
   "execution_count": 10,
   "metadata": {},
   "outputs": [],
   "source": [
    "def mapviz(doc):  \n",
    "    p1 = figure(plot_width=425, plot_height=425,tools=\"\",toolbar_location=\"above\", x_range=x_range,y_range=y_range,\n",
    "                title = \"Hourly Vehicle Count at {}\".format(df_city.name.iloc[0]),sizing_mode='scale_width')\n",
    "    p1.axis.visible = False\n",
    "    p1.add_tile(WMTSTileSource(url=urlmap, attribution=attribution))\n",
    "    p1.circle(x=df_city['x'], y=df_city['y'], fill_color='white',line_color=\"red\",line_width=4,size=42)\n",
    "    annotation1 = Label(x=207, y=247, x_units='screen', y_units='screen',render_mode='css',background_fill_color='white',\n",
    "             text='{}'.format(int(df_hourly.VehicleCountperHour.loc[date_value][df_hourly.Hour_of_Day == hour_value])),\n",
    "            background_fill_alpha=0.0,text_color = 'black',text_font = 'arial',text_font_size = '12pt')\n",
    "    p1.add_layout(annotation1)\n",
    "    p2 = figure(plot_width=425, plot_height=425,tools='save',toolbar_location=\"above\", x_range=x_range,y_range=y_range,\n",
    "                title = \"Daily Total Vehicle Count for {}\".format(df_city.name.iloc[0]),sizing_mode='scale_width')\n",
    "    p2.axis.visible = False\n",
    "    p2.add_tile(WMTSTileSource(url=urlmap, attribution=attribution))\n",
    "    p2.circle(x=df_city['x'], y=df_city['y'], fill_color='white',line_color=\"red\",line_width=4,size=42)\n",
    "    annotation2 = Label(x=200, y=247, x_units='screen', y_units='screen',text='{}'.format(df_hourly.loc[date_value].VehicleCountperHour.sum()),\n",
    "                        render_mode='css',background_fill_color='white',background_fill_alpha=0.0,text_color = 'black',text_font = 'arial',text_font_size = '12pt')\n",
    "    p2.add_layout(annotation2)\n",
    "          \n",
    "    def callback(attr,old,new):\n",
    "        date_value = date_picker.value.strftime('%Y-%m-%d')\n",
    "        hour_value = hour_slider.value\n",
    "        annotation1.text = '{}'.format(int(df_hourly.VehicleCountperHour.loc[date_value][df_hourly.Hour_of_Day == hour_value]))\n",
    "        annotation2.text = '{}'.format(df_hourly.loc[date_value].VehicleCountperHour.sum())             \n",
    "   \n",
    "    date_picker = DatePicker(min_date=date(2018,2,23), max_date=date(2018,2,24), value=date(2018,2,23), title=\"Select Date:\")\n",
    "    date_picker.on_change('value', callback)    \n",
    "    hour_slider = Slider(title=\"Hour of Day\", start=0, end=23,value=10, step=1)\n",
    "    hour_slider.on_change('value', callback)\n",
    "    doc.add_root(column(widgetbox(date_picker,hour_slider,sizing_mode =\"scale_width\"),row(p1,p2)))    "
   ]
  },
  {
   "cell_type": "markdown",
   "metadata": {},
   "source": [
    "Now we can display our application using `show`, which will automatically create an `Application` that calls the plotting function (Eg: `mapviz`) using `FunctionHandler`. The end result is that the Bokeh server will call `mapviz` to build new documents for every new session that is opened."
   ]
  },
  {
   "cell_type": "code",
   "execution_count": 11,
   "metadata": {},
   "outputs": [
    {
     "data": {
      "application/vnd.bokehjs_exec.v0+json": "",
      "text/html": [
       "\n",
       "<script\n",
       "    src=\"http://localhost:52447/autoload.js?bokeh-autoload-element=e100264f-b68b-41c0-937f-a5a32e1f4f50&bokeh-absolute-url=http://localhost:52447\"\n",
       "    id=\"e100264f-b68b-41c0-937f-a5a32e1f4f50\"\n",
       "    data-bokeh-model-id=\"\"\n",
       "    data-bokeh-doc-id=\"\"\n",
       "></script>"
      ]
     },
     "metadata": {
      "application/vnd.bokehjs_exec.v0+json": {
       "server_id": "137f2871ee4a494f9c94ed39b87c4d81"
      }
     },
     "output_type": "display_data"
    }
   ],
   "source": [
    "show(mapviz)"
   ]
  },
  {
   "cell_type": "markdown",
   "metadata": {},
   "source": [
    "### Vehicle Traffic Analysis and Classification"
   ]
  },
  {
   "cell_type": "code",
   "execution_count": 12,
   "metadata": {},
   "outputs": [
    {
     "data": {
      "text/plain": [
       "['2018-02-22', '2018-02-23', '2018-02-24']"
      ]
     },
     "execution_count": 12,
     "metadata": {},
     "output_type": "execute_result"
    }
   ],
   "source": [
    "df_night = df_hourly[df_hourly.DayorNight == 'Night']\n",
    "df_night = df_night[(df_night.index >= '22-2-2018') & (df_night.index < '25-2-2018')]\n",
    "dates_unique = df_night.index.map(lambda t: t.date()).unique()\n",
    "dates_unique = [dates_unique[i].strftime('%Y-%m-%d') for i in range(len(dates_unique))]\n",
    "dates_unique"
   ]
  },
  {
   "cell_type": "markdown",
   "metadata": {},
   "source": [
    "#### Classifying Street Light Operation Hours\n",
    "  We determine the best time to keep a street light *DIMMED* using the [interquartile range](https://en.wikipedia.org/wiki/Interquartile_range) of the vehicle traffic distribution. In the codeblock below, we classify all hours of the **night** where the night time vehicle traffic is less than the third quartile (Q3 or *75th percentile*) as optimal hours to keep a street light dimmed. This ensures that street lights are turned on at *FULL* Brightness during peak hours and dimmed during Off-Peak Hours."
   ]
  },
  {
   "cell_type": "code",
   "execution_count": 13,
   "metadata": {},
   "outputs": [],
   "source": [
    "statelist = []\n",
    "countlist = []\n",
    "Timestamps = []\n",
    "for e in dates_unique:    \n",
    "    df_night_date = df_night[e].reset_index()\n",
    "    IQR75 = int(np.percentile(df_night_date.VehicleCountperHour, 75))\n",
    "    df_night_date['StreetLightState'] = 'FULL'\n",
    "    dim_index = df_night_date[df_night_date.VehicleCountperHour < IQR75].index\n",
    "    df_night_date['StreetLightState'].iloc[dim_index] = 'DIM'\n",
    "    list1 = df_night_date.StreetLightState.tolist()\n",
    "    statelist.extend(list1)\n",
    "    list2 = df_night_date.VehicleCountperHour.tolist()\n",
    "    countlist.extend(list2)\n",
    "    list3 = df_night_date.TimeStamps.tolist()\n",
    "    Timestamps.extend(list3)"
   ]
  },
  {
   "cell_type": "code",
   "execution_count": 14,
   "metadata": {},
   "outputs": [
    {
     "data": {
      "text/html": [
       "<div>\n",
       "<style scoped>\n",
       "    .dataframe tbody tr th:only-of-type {\n",
       "        vertical-align: middle;\n",
       "    }\n",
       "\n",
       "    .dataframe tbody tr th {\n",
       "        vertical-align: top;\n",
       "    }\n",
       "\n",
       "    .dataframe thead th {\n",
       "        text-align: right;\n",
       "    }\n",
       "</style>\n",
       "<table border=\"1\" class=\"dataframe\">\n",
       "  <thead>\n",
       "    <tr style=\"text-align: right;\">\n",
       "      <th></th>\n",
       "      <th>VehicleCountperHour</th>\n",
       "      <th>StreetLightState</th>\n",
       "    </tr>\n",
       "    <tr>\n",
       "      <th>Timestamps</th>\n",
       "      <th></th>\n",
       "      <th></th>\n",
       "    </tr>\n",
       "  </thead>\n",
       "  <tbody>\n",
       "    <tr>\n",
       "      <th>2018-02-22 00:34:06</th>\n",
       "      <td>7</td>\n",
       "      <td>DIM</td>\n",
       "    </tr>\n",
       "    <tr>\n",
       "      <th>2018-02-22 01:34:22</th>\n",
       "      <td>12</td>\n",
       "      <td>DIM</td>\n",
       "    </tr>\n",
       "    <tr>\n",
       "      <th>2018-02-22 02:34:38</th>\n",
       "      <td>7</td>\n",
       "      <td>DIM</td>\n",
       "    </tr>\n",
       "    <tr>\n",
       "      <th>2018-02-22 03:34:52</th>\n",
       "      <td>4</td>\n",
       "      <td>DIM</td>\n",
       "    </tr>\n",
       "    <tr>\n",
       "      <th>2018-02-22 04:35:09</th>\n",
       "      <td>14</td>\n",
       "      <td>DIM</td>\n",
       "    </tr>\n",
       "  </tbody>\n",
       "</table>\n",
       "</div>"
      ],
      "text/plain": [
       "                     VehicleCountperHour StreetLightState\n",
       "Timestamps                                               \n",
       "2018-02-22 00:34:06                    7              DIM\n",
       "2018-02-22 01:34:22                   12              DIM\n",
       "2018-02-22 02:34:38                    7              DIM\n",
       "2018-02-22 03:34:52                    4              DIM\n",
       "2018-02-22 04:35:09                   14              DIM"
      ]
     },
     "execution_count": 14,
     "metadata": {},
     "output_type": "execute_result"
    }
   ],
   "source": [
    "df_night_lightstate = pd.DataFrame({'Timestamps': Timestamps, 'VehicleCountperHour': countlist, 'StreetLightState':statelist})\n",
    "df_night_lightstate = df_night_lightstate[['Timestamps','VehicleCountperHour','StreetLightState']]\n",
    "df_night_lightstate = df_night_lightstate.set_index('Timestamps')\n",
    "df_night_lightstate.head()"
   ]
  },
  {
   "cell_type": "code",
   "execution_count": 15,
   "metadata": {},
   "outputs": [],
   "source": [
    "## Custom function to Set the bar for each hour at a decent width\n",
    "## https://stackoverflow.com/questions/40185561/auto-set-vbar-line-width-based-on-x-range-in-bokeh\n",
    "def get_width(df):\n",
    "    '''Pass DataFrame as input attribute to the function'''\n",
    "    mindate = min(df.index)\n",
    "    maxdate = max(df.index)\n",
    "    return 0.75 * (maxdate-mindate).total_seconds()*1000 / len(df.index)"
   ]
  },
  {
   "cell_type": "code",
   "execution_count": 16,
   "metadata": {},
   "outputs": [],
   "source": [
    "def TrafficPlot(doc):\n",
    "    source1 = ColumnDataSource(data=dict(x=df_hourly.loc[date_value].index, \n",
    "                                         y=df_hourly.loc[date_value].VehicleCountperHour,\n",
    "                                         label = df_hourly.loc[date_value].DayorNight.tolist()))\n",
    "    source2 = ColumnDataSource(data=dict(a = df_night_lightstate.loc[date_value].index,\n",
    "                                     b = df_night_lightstate.loc[date_value].VehicleCountperHour,\n",
    "                                     label1 = df_night_lightstate.loc[date_value].StreetLightState.tolist()))\n",
    "    hover = HoverTool(names=['Traffic'],tooltips=[(\"Timestamp\", \"@x{%F %T}\"),(\"CountValue\", \"@y\")],formatters={\"x\": \"datetime\"})\n",
    "    hover.point_policy= \"snap_to_data\"\n",
    "    color_mapper1 = CategoricalColorMapper(factors=['Day', 'Night'], palette=['#ffe47c','#3692b6'])\n",
    "    color_mapper2 = CategoricalColorMapper(factors=['FULL', 'DIM'], palette=['#ea2539','#48ad1d'])    \n",
    "    p = figure(title = \"Hourly Vehicle Count\",width = 960, height=540,sizing_mode='scale_width',\n",
    "              x_axis_type='datetime',y_range=(0, (df_hourly.VehicleCountperHour.max()+1)))\n",
    "    p.line('x','y',color=\"Red\",alpha = 0.55, source = source1)\n",
    "    p.vbar('x', top='y',width=get_width(df_hourly),alpha = 0.75,source=source1,name='Traffic',color={'field': 'label', 'transform': color_mapper1},legend='label')\n",
    "    p.add_tools(hover)\n",
    "    p.circle('a','b',size=15,alpha = 0.5,source=source2,color={'field': 'label1', 'transform': color_mapper2},legend='label1')\n",
    "    annotation1 = Label(x=20, y=460, x_units='screen', y_units='screen',render_mode='css',background_fill_color='white',\n",
    "                        text='Busiest Hour of the Day: {} cars @ {}'.format(df_hourly.loc[date_value].VehicleCountperHour.max(),df_hourly.loc[date_value].VehicleCountperHour.idxmax()),\n",
    "                         background_fill_alpha=0.45,text_font = 'arial',text_font_size = '9pt', text_color='#828282')\n",
    "    annotation2 = Label(x=20, y=440, x_units='screen', y_units='screen', render_mode='css',background_fill_color='white',\n",
    "                        text='Average Hourly Vehicle Traffic: ~ {} per hour'.format(round(df_hourly.loc[date_value].VehicleCountperHour.mean())),background_fill_alpha=0.55,text_font = 'arial',text_font_size = '9pt', text_color='#828282')\n",
    "    annotation3 = Label(x=20, y=-40, x_units='screen', y_units='screen',render_mode='css',background_fill_color='white',\n",
    "                        text='Total Car movement in the day:{}'.format(df_hourly.loc[date_value].VehicleCountperHour.sum()),background_fill_alpha=0.55,text_font = 'times',text_font_size = '10pt',text_font_style='bold')   \n",
    "    p.add_layout(annotation1)\n",
    "    p.add_layout(annotation2)\n",
    "    p.add_layout(annotation3)\n",
    "    \n",
    "    def callback(attr,old,new):\n",
    "        date_value = new.strftime('%Y-%m-%d')\n",
    "        new_data = dict(x=df_hourly.loc[date_value].index,\n",
    "            y=df_hourly.loc[date_value].VehicleCountperHour,\n",
    "            label = df_hourly.loc[date_value].DayorNight.tolist())\n",
    "        source1.data = new_data\n",
    "        new_data2 = dict(a = df_night_lightstate.loc[date_value].index,\n",
    "                         b = df_night_lightstate.loc[date_value].VehicleCountperHour,\n",
    "                         label1 = df_night_lightstate.loc[date_value].StreetLightState.tolist())\n",
    "        source2.data = new_data2\n",
    "        annotation1.text = 'Busiest Hour of the Day: {} cars @ {}'.format(df_hourly.loc[date_value].VehicleCountperHour.max(),df_hourly.loc[date_value].VehicleCountperHour.idxmax())\n",
    "        annotation2.text = 'Average Hourly Vehicle Traffic: ~ {} per hour'.format(round(df_hourly.loc[date_value].VehicleCountperHour.mean()))\n",
    "        annotation3.text = 'Total Car movement in the day: {}'.format((df_hourly.loc[date_value].VehicleCountperHour.sum()))\n",
    "    \n",
    "    slider = DateSlider(start=date(2018,2,22), end=date(2018,2,24), value=date(2018,2,23), step=1, title=\"Date\")\n",
    "    slider.on_change('value', callback)\n",
    "    doc.add_root(column(slider,p))   "
   ]
  },
  {
   "cell_type": "markdown",
   "metadata": {},
   "source": [
    "The plot below shows the vehicle traffic distribution for the selected date. The particular hours where street lights can be dimmed are marked in <font color='#48ad1d'>GREEN</font> color and the hours where street lights can be operated at FULL Brightness is marked in <font color='#ea2539'>RED</font> color."
   ]
  },
  {
   "cell_type": "code",
   "execution_count": 17,
   "metadata": {},
   "outputs": [
    {
     "data": {
      "application/vnd.bokehjs_exec.v0+json": "",
      "text/html": [
       "\n",
       "<script\n",
       "    src=\"http://localhost:52452/autoload.js?bokeh-autoload-element=ef562283-f7b5-4cbe-ab23-c046100fcf1f&bokeh-absolute-url=http://localhost:52452\"\n",
       "    id=\"ef562283-f7b5-4cbe-ab23-c046100fcf1f\"\n",
       "    data-bokeh-model-id=\"\"\n",
       "    data-bokeh-doc-id=\"\"\n",
       "></script>"
      ]
     },
     "metadata": {
      "application/vnd.bokehjs_exec.v0+json": {
       "server_id": "f08f35a540fa4a929a0264f81d4ccbbc"
      }
     },
     "output_type": "display_data"
    }
   ],
   "source": [
    "show(TrafficPlot, notebook_handle = True)"
   ]
  },
  {
   "cell_type": "markdown",
   "metadata": {},
   "source": [
    "### Energy Savings\n",
    "  Since we have only two days of continous uninterrupted vehicle count data we will subset our data frame to these two dates 23/02/2018 (Friday) and 24/02/2018 (Saturday). In these two dates,there is 14 hours of Night time when the street lights will be functioning. We use the available vehicle count data and generalize it to any arbitrary street to quantify the energy savings for this weekday (Friday) and a weekend (Saturday). "
   ]
  },
  {
   "cell_type": "code",
   "execution_count": 18,
   "metadata": {},
   "outputs": [],
   "source": [
    "# Subset dataframe to just two days\n",
    "df_night = df_hourly[df_hourly.DayorNight == 'Night']\n",
    "df_night = df_night[(df_night.index >= '23-2-2018') & (df_night.index < '25-2-2018')]\n",
    "dates_unique = df_night.index.map(lambda t: t.date()).unique()\n",
    "dates_unique = [dates_unique[i].strftime('%Y-%m-%d') for i in range(len(dates_unique))]"
   ]
  },
  {
   "cell_type": "code",
   "execution_count": 19,
   "metadata": {},
   "outputs": [],
   "source": [
    "# Restructuring data into a new data frame\n",
    "dimhours = []\n",
    "fullbrighthours = []\n",
    "totalnighthours = []\n",
    "for e in dates_unique:\n",
    "    list1 = int(df_night[e].DayorNight.count())\n",
    "    totalnighthours.append(list1)\n",
    "    list2 = int(df_night_lightstate.StreetLightState[e][df_night_lightstate.StreetLightState == 'DIM'].count())\n",
    "    dimhours.append(list2)\n",
    "    list3 = int(df_night_lightstate.StreetLightState[e][df_night_lightstate.StreetLightState == 'FULL'].count())\n",
    "    fullbrighthours.append(list3)"
   ]
  },
  {
   "cell_type": "code",
   "execution_count": 20,
   "metadata": {},
   "outputs": [
    {
     "data": {
      "text/html": [
       "<div>\n",
       "<style scoped>\n",
       "    .dataframe tbody tr th:only-of-type {\n",
       "        vertical-align: middle;\n",
       "    }\n",
       "\n",
       "    .dataframe tbody tr th {\n",
       "        vertical-align: top;\n",
       "    }\n",
       "\n",
       "    .dataframe thead th {\n",
       "        text-align: right;\n",
       "    }\n",
       "</style>\n",
       "<table border=\"1\" class=\"dataframe\">\n",
       "  <thead>\n",
       "    <tr style=\"text-align: right;\">\n",
       "      <th></th>\n",
       "      <th>NightHours</th>\n",
       "      <th>FullBrightHours</th>\n",
       "      <th>LightDimHours</th>\n",
       "    </tr>\n",
       "    <tr>\n",
       "      <th>Date</th>\n",
       "      <th></th>\n",
       "      <th></th>\n",
       "      <th></th>\n",
       "    </tr>\n",
       "  </thead>\n",
       "  <tbody>\n",
       "    <tr>\n",
       "      <th>2018-02-23</th>\n",
       "      <td>14</td>\n",
       "      <td>4</td>\n",
       "      <td>10</td>\n",
       "    </tr>\n",
       "    <tr>\n",
       "      <th>2018-02-24</th>\n",
       "      <td>14</td>\n",
       "      <td>5</td>\n",
       "      <td>9</td>\n",
       "    </tr>\n",
       "  </tbody>\n",
       "</table>\n",
       "</div>"
      ],
      "text/plain": [
       "            NightHours  FullBrightHours  LightDimHours\n",
       "Date                                                  \n",
       "2018-02-23          14                4             10\n",
       "2018-02-24          14                5              9"
      ]
     },
     "execution_count": 20,
     "metadata": {},
     "output_type": "execute_result"
    }
   ],
   "source": [
    "dates_list = df_night.index.map(lambda t: t.date()).unique()\n",
    "df_dimhrs = pd.DataFrame({'Date': dates_list, 'NightHours': totalnighthours, 'LightDimHours':dimhours, 'FullBrightHours': fullbrighthours})\n",
    "df_dimhrs = df_dimhrs[['Date','NightHours','FullBrightHours','LightDimHours']]\n",
    "df_dimhrs = df_dimhrs.set_index('Date')\n",
    "df_dimhrs"
   ]
  },
  {
   "cell_type": "code",
   "execution_count": 21,
   "metadata": {},
   "outputs": [
    {
     "name": "stdout",
     "output_type": "stream",
     "text": [
      "['Fri, 23-02-2018', 'Sat, 24-02-2018']\n"
     ]
    }
   ],
   "source": [
    "dates_unique = [dates_list[i].strftime('%a, %d-%m-%Y') for i in range(len(dates_list))]\n",
    "print(dates_unique)"
   ]
  },
  {
   "cell_type": "markdown",
   "metadata": {},
   "source": [
    "### Formula for Calculating Street Light Dimming Hours"
   ]
  },
  {
   "cell_type": "code",
   "execution_count": 22,
   "metadata": {},
   "outputs": [],
   "source": [
    "# Initialize Values to start the plot\n",
    "lights = 10\n",
    "power = 50\n",
    "dimming_factor = 0.25"
   ]
  },
  {
   "cell_type": "markdown",
   "metadata": {},
   "source": [
    "The formula for calculating Energy Consumption is as follows:<br>\n",
    "1. In a normal scenario, when the street lights are switched ON at *FULL* Brightness during the entire night, we calculate:\n",
    "\n",
    "        Energy Consumed = (No. of Hours of Operation ) x (Power Rating of each light) x (No.of lights in the street)\n",
    "2. In the energy savings scenario where street lights are *DIMMED* when vehicle traffic is less and increased to *FULL* Brightness during peak vehicle traffic hours, we calculate:\n",
    "\n",
    "        Energy Consumed = { (No. of Hours of Operation at FULL Brightness ) x (Power Rating of each light ) x (No.of lights in the street ) } +  { (No. of Hours of Operation at DIMMED Brightness ) x (Power Rating of each light ) x (Dimming Factor ) x (No.of lights in the street ) }\n",
    "\n",
    "**Dimming Factor**:\n",
    "    Dimming Factor is the percentage of full brightness you want to dim the lights. For eg: Dimming Factor = 0.25 means 25% of FULL Brightness . For the calculations here it is assumed that the dimming the street light reduces it's luminosity and power consumption proportionately."
   ]
  },
  {
   "cell_type": "markdown",
   "metadata": {},
   "source": [
    " **Limitation**:\n",
    "The Energy Savings scheme proposed here assumes that street lights can be dimmed. However some older street light technologies <sup>[1]</sup> like *High Pressure Sodium Vapor* cannot be dimmed instantly with proportionate decrease in luminosity and power rating, compared to modern technologies like LEDs."
   ]
  },
  {
   "cell_type": "code",
   "execution_count": 23,
   "metadata": {},
   "outputs": [],
   "source": [
    "def energyplot(doc):\n",
    "    source1 = ColumnDataSource(data = dict(normal=['Normal'],max_energy = [(14*lights*power*0.001)]))\n",
    "    source2 = ColumnDataSource(data=dict(dates = dates_unique,energy=[(a*(lights*power*0.001)) + (b*(lights*power*dimming_factor*0.001)) for a, b in zip(df_dimhrs.FullBrightHours.tolist(),df_dimhrs.LightDimHours.tolist())]))\n",
    "    hover = HoverTool(names=['DimDays'],tooltips=[(\"Energy Consumption\", \"@energy kWh\")])\n",
    "    hover_fullday = HoverTool(names=['FullDay'],tooltips=[(\"Energy Consumption\", \"@max_energy kWh\")])\n",
    "    f = figure(plot_width=960,plot_height=540,y_range=['Normal']+dates_unique,toolbar_location=None,tools=[hover], \n",
    "               title=\"Energy Consumption in a Street after Dimming Street Lights\",sizing_mode='scale_width')\n",
    "    f.hbar(y='normal',left=0, right = 'max_energy',source=source1, height=0.25,color=\"#ea2539\",alpha = 0.65,legend=\"FULL\",name='FullDay')\n",
    "    f.hbar(y='dates',left=0, right='energy', height=0.25, source=source2,color = \"#48ad1d\",alpha = 0.65,legend=\"DIM\",name='DimDays')\n",
    "    f.ygrid.grid_line_color = None\n",
    "    f.x_range.start = 0\n",
    "    f.x_range.end = 61 ##Set this to a value to fix the scale of the X-Axis\n",
    "    f.xaxis.axis_label = \"kW-Hr\"\n",
    "    f.add_tools(hover_fullday)      \n",
    "          \n",
    "    def callback(attrname,old,new):        \n",
    "        lights = Lights_Slider.value\n",
    "        power = PowerSlider.value\n",
    "        dimming_factor = DimmingSlider.value\n",
    "        source1.data = dict(normal=['Normal'],max_energy = [(14*lights*power*0.001)])        \n",
    "        source2.data = dict(dates = dates_unique,energy=[(a*(lights*power*0.001)) + (b*(lights*power*dimming_factor*0.001)) for a, b in zip(df_dimhrs.FullBrightHours.tolist(),df_dimhrs.LightDimHours.tolist())])\n",
    "        \n",
    "    Lights_Slider = Slider(start=0, end=20, value=10, step=1, title=\"No. of Street Lights\")\n",
    "    PowerSlider = Slider(start=10, end=200, value=50, step=1, title=\"Power (Watts) of each Light\")\n",
    "    DimmingSlider = Slider(start=0.25, end=1, value=0.25, step=.25, title=\"Dimming Factor\")\n",
    "    for w in [Lights_Slider, PowerSlider, DimmingSlider]:\n",
    "        w.on_change('value', callback)\n",
    "    doc.add_root(column(widgetbox(Lights_Slider,PowerSlider,DimmingSlider),f)) "
   ]
  },
  {
   "cell_type": "code",
   "execution_count": 24,
   "metadata": {},
   "outputs": [
    {
     "data": {
      "application/vnd.bokehjs_exec.v0+json": "",
      "text/html": [
       "\n",
       "<script\n",
       "    src=\"http://localhost:52460/autoload.js?bokeh-autoload-element=6630a409-3869-43c8-9c08-9c539786ca70&bokeh-absolute-url=http://localhost:52460\"\n",
       "    id=\"6630a409-3869-43c8-9c08-9c539786ca70\"\n",
       "    data-bokeh-model-id=\"\"\n",
       "    data-bokeh-doc-id=\"\"\n",
       "></script>"
      ]
     },
     "metadata": {
      "application/vnd.bokehjs_exec.v0+json": {
       "server_id": "a00493e6f77f4d349d9b55ce559b17bb"
      }
     },
     "output_type": "display_data"
    }
   ],
   "source": [
    "show(energyplot)"
   ]
  },
  {
   "cell_type": "markdown",
   "metadata": {},
   "source": [
    "### Concluding Thoughts:\n",
    "* Only two days of vehicle count data are used to present the visualizations, it would be ideal to have data for a longer duration like a month or ideally a year so we can assess vehicle traffic metrics on average for each day of the week for an entire year.\n",
    "\n",
    "#### Economic metrics about energy savings:\n",
    " * We can see that for a street with 10 nos of 50 Watt street lights and a dimming factor of 0.25 we get an energy savings of 3.45 kWh per day on average, which translates to a yearly energy savings of ~ 1260 kWh.\n",
    " * Taking the unit cost of Electricity in Saarbrücken<sup>[3]</sup> to be ~0.07 € per kWh, this amounts to about 88 € per year. With several thousand street lights in Saarbrücken, this amount could easily exceed 1 million €"
   ]
  },
  {
   "cell_type": "markdown",
   "metadata": {},
   "source": [
    "#### References:\n",
    "1. https://electronics.stackexchange.com/questions/24978/how-do-you-dim-a-streetlight-bulb \n",
    "2. https://bokeh.pydata.org/en/latest/docs/user_guide/categorical.html\n",
    "3. https://www.energie-saarlorlux.com/geschaeftskunden/fernwaerme/preise/"
   ]
  }
 ],
 "metadata": {
  "kernelspec": {
   "display_name": "Python [default]",
   "language": "python",
   "name": "python3"
  },
  "language_info": {
   "codemirror_mode": {
    "name": "ipython",
    "version": 3
   },
   "file_extension": ".py",
   "mimetype": "text/x-python",
   "name": "python",
   "nbconvert_exporter": "python",
   "pygments_lexer": "ipython3",
   "version": "3.6.4"
  }
 },
 "nbformat": 4,
 "nbformat_minor": 2
}
